{
 "cells": [
  {
   "cell_type": "markdown",
   "metadata": {},
   "source": [
    "# WeatherPy\n",
    "----\n",
    "\n",
    "#### Note\n",
    "* Instructions have been included for each segment. You do not have to follow them exactly, but they are included to help you think through the steps."
   ]
  },
  {
   "cell_type": "code",
   "execution_count": 1,
   "metadata": {
    "scrolled": true
   },
   "outputs": [],
   "source": [
    "# Dependencies and Setup\n",
    "import matplotlib.pyplot as plt\n",
    "import pandas as pd\n",
    "import numpy as np\n",
    "import requests\n",
    "import time\n",
    "from scipy.stats import linregress\n",
    "\n",
    "# Import API key\n",
    "from api_keys import weather_api_key\n",
    "\n",
    "# Incorporated citipy to determine city based on latitude and longitude\n",
    "from citipy import citipy\n",
    "\n",
    "# Output File (CSV)\n",
    "output_data_file = \"output_data/cities.csv\"\n",
    "\n",
    "# Range of latitudes and longitudes\n",
    "lat_range = (-90, 90)\n",
    "lng_range = (-180, 180)"
   ]
  },
  {
   "cell_type": "markdown",
   "metadata": {},
   "source": [
    "## Generate Cities List"
   ]
  },
  {
   "cell_type": "code",
   "execution_count": 2,
   "metadata": {},
   "outputs": [
    {
     "data": {
      "text/plain": [
       "617"
      ]
     },
     "execution_count": 2,
     "metadata": {},
     "output_type": "execute_result"
    }
   ],
   "source": [
    "# List for holding lat_lngs and cities\n",
    "lat_lngs = []\n",
    "cities = []\n",
    "\n",
    "# Create a set of random lat and lng combinations\n",
    "lats = np.random.uniform(lat_range[0], lat_range[1], size=1500)\n",
    "lngs = np.random.uniform(lng_range[0], lng_range[1], size=1500)\n",
    "lat_lngs = zip(lats, lngs)\n",
    "\n",
    "# Identify nearest city for each lat, lng combination\n",
    "for lat_lng in lat_lngs:\n",
    "    city = citipy.nearest_city(lat_lng[0], lat_lng[1]).city_name\n",
    "    \n",
    "    # If the city is unique, then add it to a our cities list\n",
    "    if city not in cities:\n",
    "        cities.append(city)\n",
    "\n",
    "# Print the city count to confirm sufficient count\n",
    "len(cities)"
   ]
  },
  {
   "cell_type": "markdown",
   "metadata": {},
   "source": [
    "### Perform API Calls\n",
    "* Perform a weather check on each city using a series of successive API calls.\n",
    "* Include a print log of each city as it'sbeing processed (with the city number and city name).\n"
   ]
  },
  {
   "cell_type": "code",
   "execution_count": 14,
   "metadata": {},
   "outputs": [],
   "source": [
    "url = (f'https://api.openweathermap.org/data/2.5/weather?q={city}&units=imperial&appid={weather_api_key}')"
   ]
  },
  {
   "cell_type": "code",
   "execution_count": 41,
   "metadata": {},
   "outputs": [
    {
     "name": "stdout",
     "output_type": "stream",
     "text": [
      "yellowknife\n",
      "hermanus\n",
      "victoria\n",
      "puerto ayora\n",
      "hobart\n",
      "rikitea\n",
      "malakal\n",
      "norilsk\n",
      "belushya guba\n",
      "vestmannaeyjar\n",
      "umm lajj\n",
      "cavalcante\n",
      "luau\n",
      "akyab\n",
      "tura\n",
      "albany\n",
      "husavik\n",
      "salinopolis\n",
      "georgetown\n",
      "vaini\n",
      "hami\n",
      "port hedland\n",
      "norsup\n",
      "solsvik\n",
      "jumla\n",
      "shelburne\n",
      "dikson\n",
      "east london\n",
      "samarai\n",
      "saint-pierre\n",
      "kyzyl-suu\n",
      "bredasdorp\n",
      "bluff\n",
      "punta arenas\n",
      "barentsburg\n",
      "don sak\n",
      "el tumbador\n",
      "khatanga\n",
      "mataura\n",
      "jojoima\n",
      "saint-joseph\n",
      "nanga eboko\n",
      "kaeo\n",
      "leningradskiy\n",
      "mahajanga\n",
      "ushuaia\n",
      "sinnamary\n",
      "pisco\n",
      "dourados\n",
      "junin\n",
      "saint george\n",
      "basco\n",
      "guarda\n",
      "carnarvon\n",
      "kailua\n",
      "hambantota\n",
      "lompoc\n",
      "chuy\n",
      "turukhansk\n",
      "bethel\n",
      "langsa\n",
      "tecpan\n",
      "jamestown\n",
      "kapaa\n",
      "komsomolskiy\n",
      "guerrero negro\n",
      "pangkalanbuun\n",
      "puerto escondido\n",
      "havre\n",
      "qaqortoq\n",
      "sakakah\n",
      "kosikha\n",
      "sao filipe\n",
      "maceio\n",
      "marcona\n",
      "mar del plata\n",
      "mrirt\n",
      "lebu\n",
      "amalapuram\n",
      "nizhneyansk\n",
      "port elizabeth\n",
      "longyearbyen\n",
      "shushenskoye\n",
      "hobyo\n",
      "cape town\n",
      "port keats\n",
      "new norfolk\n",
      "busselton\n",
      "halalo\n",
      "pitea\n",
      "arraial do cabo\n",
      "boissevain\n",
      "manokwari\n",
      "upernavik\n",
      "cabo san lucas\n",
      "ponta do sol\n",
      "maldonado\n",
      "mocuba\n",
      "avarua\n",
      "lagoa\n",
      "atuona\n",
      "hithadhoo\n",
      "port alfred\n",
      "byron bay\n",
      "caravelas\n",
      "mizunami\n",
      "manono\n",
      "itarema\n",
      "yar-sale\n",
      "zhigansk\n",
      "petropavlovsk-kamchatskiy\n",
      "butaritari\n",
      "blackwater\n",
      "kimbe\n",
      "rebrikha\n",
      "katsuura\n",
      "tasiilaq\n",
      "hasaki\n",
      "ribeira grande\n",
      "pangai\n",
      "merauke\n",
      "baghmara\n",
      "illoqqortoormiut\n",
      "lorengau\n",
      "praia da vitoria\n",
      "sept-iles\n",
      "masvingo\n",
      "grand gaube\n",
      "manacapuru\n",
      "tombouctou\n",
      "bambous virieux\n",
      "altamira\n",
      "florianopolis\n",
      "college\n",
      "tecpatan\n",
      "chokurdakh\n",
      "margate\n",
      "jishou\n",
      "camacha\n",
      "urumqi\n",
      "syamzha\n",
      "narsaq\n",
      "sola\n",
      "tuktoyaktuk\n",
      "guadix\n",
      "shadegan\n",
      "khombole\n",
      "notre-dame-du-lac\n",
      "adrar\n",
      "tucuma\n",
      "tokur\n",
      "cap-aux-meules\n",
      "esperance\n",
      "dunedin\n",
      "thompson\n",
      "netivot\n",
      "paamiut\n",
      "tanshui\n",
      "taolanaro\n",
      "igdir\n",
      "port lincoln\n",
      "port augusta\n",
      "ilulissat\n",
      "mirnyy\n",
      "kaitangata\n",
      "mahebourg\n",
      "mys shmidta\n",
      "alofi\n",
      "sainte-anne-des-monts\n",
      "lata\n",
      "gua musang\n",
      "dingle\n",
      "bras-panon\n",
      "sfantu gheorghe\n",
      "wadena\n",
      "port pirie\n",
      "mandan\n",
      "tuatapere\n",
      "mackay\n",
      "impfondo\n",
      "sale\n",
      "taitung\n",
      "norman wells\n",
      "shibarghan\n",
      "lhokseumawe\n",
      "luderitz\n",
      "ambilobe\n",
      "siyabuswa\n",
      "tubruq\n",
      "praia\n",
      "cayenne\n",
      "nouadhibou\n",
      "castro\n",
      "bengkulu\n",
      "saskylakh\n",
      "raudeberg\n",
      "tabou\n",
      "codrington\n",
      "bintulu\n",
      "bonavista\n",
      "marzuq\n",
      "barrow\n",
      "amderma\n",
      "tarudant\n",
      "aporawan\n",
      "gafanha da encarnacao\n",
      "soroti\n",
      "bargal\n",
      "boa vista\n",
      "valdepenas\n",
      "nikolskoye\n",
      "grand river south east\n",
      "hofn\n",
      "muros\n",
      "vila do maio\n",
      "curup\n",
      "robertsport\n",
      "valdivia\n",
      "vaitupu\n",
      "khani\n",
      "bexhill\n",
      "eyrarbakki\n",
      "riviera beach\n",
      "ulaangom\n",
      "hirara\n",
      "hilo\n",
      "geraldton\n",
      "kosonsoy\n",
      "karpogory\n",
      "cherskiy\n",
      "nemuro\n",
      "mauchline\n",
      "patzicia\n",
      "manicore\n",
      "saldanha\n",
      "varberg\n",
      "tiksi\n",
      "san quintin\n",
      "karaul\n",
      "koumac\n",
      "roma\n",
      "nome\n",
      "ribeira brava\n",
      "tres arroyos\n",
      "kahului\n",
      "veraval\n",
      "maseru\n",
      "talnakh\n",
      "carndonagh\n",
      "baherden\n",
      "tsihombe\n",
      "bilma\n",
      "turkan\n",
      "port-gentil\n",
      "saint-philippe\n",
      "henties bay\n",
      "cacapava do sul\n",
      "saint anthony\n",
      "tadine\n",
      "gamba\n",
      "batagay-alyta\n",
      "nguru\n",
      "qaanaaq\n",
      "nenjiang\n",
      "aswan\n",
      "sentyabrskiy\n",
      "namatanai\n",
      "trapani\n",
      "coihaique\n",
      "tilichiki\n",
      "derzhavinsk\n",
      "rundu\n",
      "altayskoye\n",
      "celestun\n",
      "jatiwangi\n",
      "bukama\n",
      "maniitsoq\n",
      "enid\n",
      "lichinga\n",
      "boffa\n",
      "hamilton\n",
      "spring hill\n",
      "queimadas\n",
      "la ronge\n",
      "torbay\n",
      "mundo novo\n",
      "conde\n",
      "sarakhs\n",
      "caraquet\n",
      "mount gambier\n",
      "shakhtinsk\n",
      "inhambane\n",
      "souillac\n",
      "bodrum\n",
      "palu\n",
      "biltine\n",
      "harper\n",
      "sisimiut\n",
      "tando jam\n",
      "iracoubo\n",
      "north bend\n",
      "elat\n",
      "aripuana\n",
      "sarh\n",
      "meulaboh\n",
      "sitka\n",
      "karratha\n",
      "san rafael\n",
      "moses lake\n",
      "isangel\n",
      "yingkou\n",
      "bontang\n",
      "linares\n",
      "nong bua\n",
      "poum\n",
      "melito di porto salvo\n",
      "chilca\n",
      "vostok\n",
      "chanute\n",
      "aranos\n",
      "faanui\n",
      "kurilsk\n",
      "miraflores\n",
      "pangnirtung\n",
      "sao joao da barra\n",
      "balikpapan\n",
      "belaya kholunitsa\n",
      "sao jose da coroa grande\n",
      "roebourne\n",
      "crixas\n",
      "hihifo\n",
      "north platte\n",
      "broome\n",
      "beringovskiy\n",
      "yatou\n",
      "mendahara\n",
      "grindavik\n",
      "barra do bugres\n",
      "yorkton\n",
      "naze\n",
      "touros\n",
      "airai\n",
      "erzurum\n",
      "fairbanks\n",
      "padang\n",
      "pacific grove\n",
      "skjervoy\n",
      "pangody\n",
      "newport\n",
      "tautira\n",
      "dwarka\n",
      "honningsvag\n",
      "buala\n",
      "maningrida\n",
      "faya\n",
      "alamosa\n",
      "kandrian\n",
      "cockburn town\n",
      "kavieng\n",
      "yulara\n",
      "kodiak\n",
      "ola\n",
      "anchorage\n",
      "santo antonio do ica\n",
      "hermosillo\n",
      "kirakira\n",
      "bathsheba\n",
      "korla\n",
      "yeppoon\n",
      "nioro\n",
      "peto\n",
      "mahon\n",
      "iqaluit\n",
      "nabire\n",
      "doctor pedro p. pena\n",
      "rondonopolis\n",
      "jacareacanga\n",
      "la asuncion\n",
      "huarmey\n",
      "saint-paul\n",
      "attawapiskat\n",
      "milkovo\n",
      "gloucester\n",
      "provideniya\n",
      "smila\n",
      "baijiantan\n",
      "trinidad\n",
      "kochinda\n",
      "hamina\n",
      "clyde river\n",
      "pilot butte\n",
      "lodja\n",
      "xiaoweizhai\n",
      "kristiansund\n",
      "bermeo\n",
      "baykit\n",
      "changtu\n",
      "sawankhalok\n",
      "tanabe\n",
      "la palma\n",
      "libreville\n",
      "moffat\n",
      "oktyabrskoye\n",
      "jaca\n",
      "lazaro cardenas\n",
      "urucurituba\n",
      "monrovia\n",
      "chimbote\n",
      "anadyr\n",
      "sterling\n",
      "irece\n",
      "pevek\n",
      "tabiauea\n",
      "muhos\n",
      "leshukonskoye\n",
      "vila franca do campo\n",
      "zheshart\n",
      "hastings\n",
      "rawson\n",
      "malwan\n",
      "umzimvubu\n",
      "zelenoborskiy\n",
      "quatre cocos\n",
      "tigil\n",
      "porto santo\n",
      "temaraia\n",
      "opotiki\n",
      "port blair\n",
      "santa cruz cabralia\n",
      "ilmajoki\n",
      "comodoro rivadavia\n",
      "mayumba\n",
      "mitsamiouli\n",
      "yerbogachen\n",
      "morant bay\n",
      "azul\n",
      "popondetta\n",
      "luanda\n",
      "hendijan\n",
      "flinders\n",
      "karpathos\n",
      "lovozero\n",
      "muzhi\n",
      "tyazhinskiy\n",
      "turbat\n",
      "nuuk\n",
      "halifax\n",
      "neiafu\n",
      "payakumbuh\n",
      "saleaula\n",
      "urusha\n",
      "lethem\n",
      "yarmouth\n",
      "youkounkoun\n",
      "wellington\n",
      "lufkin\n",
      "tahoua\n",
      "samusu\n",
      "bujumbura\n",
      "ferrol\n",
      "amapala\n",
      "oriximina\n",
      "lavrentiya\n",
      "champasak\n",
      "palmer\n",
      "teya\n",
      "moletai\n",
      "sabancuy\n",
      "klaksvik\n",
      "te anau\n",
      "plettenberg bay\n",
      "ust-kuyga\n",
      "chaohu\n",
      "arenapolis\n",
      "atka\n",
      "sibiti\n",
      "nizwa\n",
      "gidam\n",
      "saint-augustin\n",
      "mattru\n",
      "daru\n",
      "galiwinku\n",
      "nadym\n",
      "liverpool\n",
      "tiznit\n",
      "mitu\n",
      "tigre\n",
      "laguna\n",
      "longlac\n",
      "barreiras\n",
      "bettiah\n",
      "mujiayingzi\n",
      "champerico\n",
      "aguimes\n",
      "cidreira\n",
      "sorong\n",
      "imbituba\n",
      "shahrud\n",
      "dosso\n",
      "hoquiam\n",
      "necochea\n",
      "ahipara\n",
      "fort nelson\n",
      "constitucion\n",
      "eyl\n",
      "portland\n",
      "tevaitoa\n",
      "taree\n",
      "bereda\n",
      "nautanwa\n",
      "balykshi\n",
      "krasnogorsk\n",
      "najran\n",
      "indramayu\n",
      "silifke\n",
      "kavaratti\n",
      "egvekinot\n",
      "andijon\n",
      "prince rupert\n",
      "acapulco\n",
      "ancud\n",
      "sangar\n",
      "deputatskiy\n",
      "lisakovsk\n",
      "gore\n",
      "shumskiy\n",
      "bacolod\n",
      "peleduy\n",
      "sao bernardo\n",
      "armacao dos buzios\n",
      "nishihara\n",
      "carutapera\n",
      "waipawa\n",
      "hohhot\n",
      "ho\n",
      "berdigestyakh\n",
      "bara\n",
      "kabale\n",
      "kruisfontein\n",
      "fukue\n",
      "nanortalik\n",
      "severo-kurilsk\n",
      "zemio\n",
      "sabang\n",
      "labuhan\n",
      "cutler\n",
      "vila velha\n",
      "bulgan\n",
      "boqueirao\n",
      "qasigiannguit\n",
      "takoradi\n",
      "kendari\n",
      "port hardy\n",
      "campbell river\n",
      "zheleznodorozhnyy\n",
      "alekseyevsk\n",
      "manta\n",
      "moose factory\n",
      "palabuhanratu\n",
      "dubbo\n",
      "kiruna\n",
      "malanje\n",
      "south lake tahoe\n",
      "mandera\n",
      "houston\n",
      "yialos\n",
      "vao\n",
      "la orilla\n",
      "agnibilekrou\n",
      "susanville\n",
      "vyartsilya\n",
      "lithgow\n",
      "san luis\n",
      "vardo\n",
      "atlantic city\n",
      "ouadda\n",
      "weinan\n",
      "ca mau\n",
      "coquimbo\n",
      "los llanos de aridane\n",
      "tailai\n",
      "tungor\n",
      "kloulklubed\n",
      "bandundu\n",
      "torbat-e jam\n",
      "sabha\n",
      "alanya\n",
      "nyurba\n",
      "vadso\n",
      "asau\n",
      "namibe\n",
      "maniwaki\n",
      "blagoyevo\n",
      "suez\n",
      "sogdiondon\n",
      "manoel urbano\n",
      "zhangjiakou\n",
      "muisne\n",
      "makakilo city\n",
      "vilyuysk\n",
      "shingu\n",
      "revda\n",
      "morondava\n",
      "presidencia roque saenz pena\n",
      "aljezur\n",
      "beloha\n",
      "tsaratanana\n",
      "bodaybo\n",
      "mtimbira\n",
      "gat\n",
      "atar\n",
      "yangambi\n",
      "temir\n",
      "saint-georges\n",
      "rongcheng\n",
      "sibolga\n",
      "oistins\n"
     ]
    }
   ],
   "source": [
    "# set up lists to hold reponse info\n",
    "city_list = []\n",
    "cloudiness = []\n",
    "country = []\n",
    "date = []\n",
    "humidity = []\n",
    "lat = []\n",
    "lng = []\n",
    "max_temp = []\n",
    "wind_speed = []\n",
    "count = 0\n",
    "# Loop through the list of cities and perform a request for data on each\n",
    "response = requests.get(url)\n",
    "response_json = response.json()\n",
    "\n",
    "for city in cities:\n",
    "      \n",
    "    \n",
    "    try:\n",
    "        cloudiness.append(response_json['clouds']['all'])\n",
    "        country.append(response_json['sys']['country'])\n",
    "        date.append(response_json['dt'])\n",
    "        humidity.append(response_json['main']['humidity'])\n",
    "        lat.append(response_json['coord']['lat'])\n",
    "        lng.append(response_json['coord']['lon'])\n",
    "        max_temp.append(response_json['main']['temp_max'])\n",
    "        wind_speed.append(response_json['wind']['speed'])\n",
    "        count = count + 1\n",
    "        print(city)\n",
    "    except KeyError:\n",
    "        print(f\"No city found\")\n",
    "        \n",
    "    \n"
   ]
  },
  {
   "cell_type": "code",
   "execution_count": null,
   "metadata": {},
   "outputs": [],
   "source": []
  },
  {
   "cell_type": "markdown",
   "metadata": {},
   "source": [
    "### Convert Raw Data to DataFrame\n",
    "* Export the city data into a .csv.\n",
    "* Display the DataFrame"
   ]
  },
  {
   "cell_type": "code",
   "execution_count": 45,
   "metadata": {},
   "outputs": [],
   "source": [
    "\n",
    "weather_dict = pd.DataFrame ({\n",
    "    \"country\": country,\n",
    "    \"city\": city,\n",
    "    \"lat\": lat,\n",
    "    \"lng\": lng,\n",
    "    \"cloudiness\": cloudiness,\n",
    "    \"humidity\": humidity,\n",
    "    \"temperature\": max_temp,\n",
    "    \"wind speed\": wind_speed, \n",
    "})\n",
    "\n",
    "\n",
    "weather_dict.to_csv(\"../output_data/cities.csv\",encoding=\"utf-8\",index=False)"
   ]
  },
  {
   "cell_type": "code",
   "execution_count": null,
   "metadata": {},
   "outputs": [],
   "source": []
  },
  {
   "cell_type": "markdown",
   "metadata": {},
   "source": [
    "## Inspect the data and remove the cities where the humidity > 100%.\n",
    "----\n",
    "Skip this step if there are no cities that have humidity > 100%. "
   ]
  },
  {
   "cell_type": "code",
   "execution_count": null,
   "metadata": {},
   "outputs": [],
   "source": []
  },
  {
   "cell_type": "code",
   "execution_count": null,
   "metadata": {},
   "outputs": [],
   "source": [
    "#  Get the indices of cities that have humidity over 100%.\n"
   ]
  },
  {
   "cell_type": "code",
   "execution_count": null,
   "metadata": {},
   "outputs": [],
   "source": [
    "# Make a new DataFrame equal to the city data to drop all humidity outliers by index.\n",
    "# Passing \"inplace=False\" will make a copy of the city_data DataFrame, which we call \"clean_city_data\".\n"
   ]
  },
  {
   "cell_type": "code",
   "execution_count": null,
   "metadata": {},
   "outputs": [],
   "source": [
    "# Extract relevant fields from the data frame\n",
    "\n",
    "\n",
    "# Export the City_Data into a csv\n"
   ]
  },
  {
   "cell_type": "markdown",
   "metadata": {},
   "source": [
    "## Plotting the Data\n",
    "* Use proper labeling of the plots using plot titles (including date of analysis) and axes labels.\n",
    "* Save the plotted figures as .pngs."
   ]
  },
  {
   "cell_type": "markdown",
   "metadata": {},
   "source": [
    "## Latitude vs. Temperature Plot"
   ]
  },
  {
   "cell_type": "code",
   "execution_count": 48,
   "metadata": {
    "scrolled": true
   },
   "outputs": [
    {
     "data": {
      "text/plain": [
       "<matplotlib.collections.PathCollection at 0x1a1b25e250>"
      ]
     },
     "execution_count": 48,
     "metadata": {},
     "output_type": "execute_result"
    },
    {
     "data": {
      "image/png": "[encoded data removed]",
      "text/plain": [
       "<Figure size 432x288 with 1 Axes>"
      ]
     },
     "metadata": {
      "needs_background": "light"
     },
     "output_type": "display_data"
    }
   ],
   "source": [
    "\n",
    "\n",
    "plt.scatter([\"lat\"], [\"temperature\"], marker=\"o\", edgecolors=\"black\", alpha=0.75)"
   ]
  },
  {
   "cell_type": "markdown",
   "metadata": {},
   "source": [
    "## Latitude vs. Humidity Plot"
   ]
  },
  {
   "cell_type": "code",
   "execution_count": 49,
   "metadata": {},
   "outputs": [
    {
     "data": {
      "text/plain": [
       "<matplotlib.collections.PathCollection at 0x1a1b248f90>"
      ]
     },
     "execution_count": 49,
     "metadata": {},
     "output_type": "execute_result"
    },
    {
     "data": {
      "image/png": "[encoded data removed]",
      "text/plain": [
       "<Figure size 432x288 with 1 Axes>"
      ]
     },
     "metadata": {
      "needs_background": "light"
     },
     "output_type": "display_data"
    }
   ],
   "source": [
    "plt.scatter([\"lat\"], [\"humidity\"], marker=\"o\", edgecolors=\"black\", alpha=0.75)"
   ]
  },
  {
   "cell_type": "markdown",
   "metadata": {},
   "source": [
    "## Latitude vs. Cloudiness Plot"
   ]
  },
  {
   "cell_type": "code",
   "execution_count": 50,
   "metadata": {},
   "outputs": [
    {
     "data": {
      "text/plain": [
       "<matplotlib.collections.PathCollection at 0x1a1b307390>"
      ]
     },
     "execution_count": 50,
     "metadata": {},
     "output_type": "execute_result"
    },
    {
     "data": {
      "image/png": "[encoded data removed]",
      "text/plain": [
       "<Figure size 432x288 with 1 Axes>"
      ]
     },
     "metadata": {
      "needs_background": "light"
     },
     "output_type": "display_data"
    }
   ],
   "source": [
    "plt.scatter([\"lat\"], [\"cloudiness\"], marker=\"o\", edgecolors=\"black\", alpha=0.75)"
   ]
  },
  {
   "cell_type": "markdown",
   "metadata": {},
   "source": [
    "## Latitude vs. Wind Speed Plot"
   ]
  },
  {
   "cell_type": "code",
   "execution_count": 51,
   "metadata": {},
   "outputs": [
    {
     "data": {
      "text/plain": [
       "<matplotlib.collections.PathCollection at 0x1a1b307bd0>"
      ]
     },
     "execution_count": 51,
     "metadata": {},
     "output_type": "execute_result"
    },
    {
     "data": {
      "image/png": "[encoded data removed]",
      "text/plain": [
       "<Figure size 432x288 with 1 Axes>"
      ]
     },
     "metadata": {
      "needs_background": "light"
     },
     "output_type": "display_data"
    }
   ],
   "source": [
    "plt.scatter([\"lat\"], [\"wind speed\"], marker=\"o\", edgecolors=\"black\", alpha=0.75)"
   ]
  },
  {
   "cell_type": "markdown",
   "metadata": {},
   "source": [
    "## Linear Regression"
   ]
  },
  {
   "cell_type": "code",
   "execution_count": null,
   "metadata": {},
   "outputs": [],
   "source": [
    "# OPTIONAL: Create a function to create Linear Regression plots"
   ]
  },
  {
   "cell_type": "code",
   "execution_count": null,
   "metadata": {},
   "outputs": [],
   "source": [
    "# Create Northern and Southern Hemisphere DataFrames"
   ]
  },
  {
   "cell_type": "markdown",
   "metadata": {},
   "source": [
    "####  Northern Hemisphere - Max Temp vs. Latitude Linear Regression"
   ]
  },
  {
   "cell_type": "code",
   "execution_count": null,
   "metadata": {},
   "outputs": [],
   "source": []
  },
  {
   "cell_type": "markdown",
   "metadata": {},
   "source": [
    "####  Southern Hemisphere - Max Temp vs. Latitude Linear Regression"
   ]
  },
  {
   "cell_type": "code",
   "execution_count": null,
   "metadata": {},
   "outputs": [],
   "source": []
  },
  {
   "cell_type": "markdown",
   "metadata": {},
   "source": [
    "####  Northern Hemisphere - Humidity (%) vs. Latitude Linear Regression"
   ]
  },
  {
   "cell_type": "code",
   "execution_count": null,
   "metadata": {},
   "outputs": [],
   "source": []
  },
  {
   "cell_type": "markdown",
   "metadata": {},
   "source": [
    "####  Southern Hemisphere - Humidity (%) vs. Latitude Linear Regression"
   ]
  },
  {
   "cell_type": "code",
   "execution_count": null,
   "metadata": {},
   "outputs": [],
   "source": []
  },
  {
   "cell_type": "markdown",
   "metadata": {},
   "source": [
    "####  Northern Hemisphere - Cloudiness (%) vs. Latitude Linear Regression"
   ]
  },
  {
   "cell_type": "code",
   "execution_count": null,
   "metadata": {},
   "outputs": [],
   "source": []
  },
  {
   "cell_type": "markdown",
   "metadata": {},
   "source": [
    "####  Southern Hemisphere - Cloudiness (%) vs. Latitude Linear Regression"
   ]
  },
  {
   "cell_type": "code",
   "execution_count": null,
   "metadata": {},
   "outputs": [],
   "source": []
  },
  {
   "cell_type": "markdown",
   "metadata": {},
   "source": [
    "####  Northern Hemisphere - Wind Speed (mph) vs. Latitude Linear Regression"
   ]
  },
  {
   "cell_type": "code",
   "execution_count": null,
   "metadata": {},
   "outputs": [],
   "source": []
  },
  {
   "cell_type": "markdown",
   "metadata": {},
   "source": [
    "####  Southern Hemisphere - Wind Speed (mph) vs. Latitude Linear Regression"
   ]
  },
  {
   "cell_type": "code",
   "execution_count": null,
   "metadata": {},
   "outputs": [],
   "source": []
  },
  {
   "cell_type": "code",
   "execution_count": null,
   "metadata": {},
   "outputs": [],
   "source": []
  }
 ],
 "metadata": {
  "anaconda-cloud": {},
  "kernel_info": {
   "name": "python3"
  },
  "kernelspec": {
   "display_name": "Python 3",
   "language": "python",
   "name": "python3"
  },
  "language_info": {
   "codemirror_mode": {
    "name": "ipython",
    "version": 3
   },
   "file_extension": ".py",
   "mimetype": "text/x-python",
   "name": "python",
   "nbconvert_exporter": "python",
   "pygments_lexer": "ipython3",
   "version": "3.7.6"
  },
  "latex_envs": {
   "LaTeX_envs_menu_present": true,
   "autoclose": false,
   "autocomplete": true,
   "bibliofile": "biblio.bib",
   "cite_by": "apalike",
   "current_citInitial": 1,
   "eqLabelWithNumbers": true,
   "eqNumInitial": 1,
   "hotkeys": {
    "equation": "Ctrl-E",
    "itemize": "Ctrl-I"
   },
   "labels_anchors": false,
   "latex_user_defs": false,
   "report_style_numbering": false,
   "user_envs_cfg": false
  },
  "nteract": {
   "version": "0.12.3"
  }
 },
 "nbformat": 4,
 "nbformat_minor": 4
}
